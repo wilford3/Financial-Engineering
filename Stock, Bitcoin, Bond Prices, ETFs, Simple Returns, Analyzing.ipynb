{
 "cells": [
  {
   "cell_type": "code",
   "execution_count": null,
   "id": "09d57fe4-7ead-40fa-930c-df6eb71051d2",
   "metadata": {},
   "outputs": [],
   "source": []
  },
  {
   "cell_type": "code",
   "execution_count": 1,
   "id": "d69cea03-3438-4bfc-8dcc-b6b475681c13",
   "metadata": {},
   "outputs": [],
   "source": [
    "import datetime\n",
    "import matplotlib.pyplot as plt\n",
    "import numpy as np\n",
    "import pandas as pd\n",
    "import seaborn as sns\n",
    "import yfinance as yfin\n",
    "\n",
    "from datetime import date\n",
    "\n",
    "pd.options.display.float_format = \"{:,.6f}\".format"
   ]
  },
  {
   "cell_type": "code",
   "execution_count": 3,
   "id": "76eaddb9-dead-4f66-b795-b6efa2d27fad",
   "metadata": {},
   "outputs": [
    {
     "name": "stderr",
     "output_type": "stream",
     "text": [
      "[*********************100%***********************]  3 of 3 completed\n"
     ]
    },
    {
     "data": {
      "text/html": [
       "<div>\n",
       "<style scoped>\n",
       "    .dataframe tbody tr th:only-of-type {\n",
       "        vertical-align: middle;\n",
       "    }\n",
       "\n",
       "    .dataframe tbody tr th {\n",
       "        vertical-align: top;\n",
       "    }\n",
       "\n",
       "    .dataframe thead th {\n",
       "        text-align: right;\n",
       "    }\n",
       "</style>\n",
       "<table border=\"1\" class=\"dataframe\">\n",
       "  <thead>\n",
       "    <tr style=\"text-align: right;\">\n",
       "      <th>Ticker</th>\n",
       "      <th>AMZN</th>\n",
       "      <th>BTC-USD</th>\n",
       "      <th>F</th>\n",
       "    </tr>\n",
       "    <tr>\n",
       "      <th>Date</th>\n",
       "      <th></th>\n",
       "      <th></th>\n",
       "      <th></th>\n",
       "    </tr>\n",
       "  </thead>\n",
       "  <tbody>\n",
       "    <tr>\n",
       "      <th>2019-08-01 00:00:00+00:00</th>\n",
       "      <td>1,855.319977</td>\n",
       "      <td>10,399.668945</td>\n",
       "      <td>7.107782</td>\n",
       "    </tr>\n",
       "    <tr>\n",
       "      <th>2019-08-02 00:00:00+00:00</th>\n",
       "      <td>1,823.240051</td>\n",
       "      <td>10,518.174805</td>\n",
       "      <td>7.084877</td>\n",
       "    </tr>\n",
       "    <tr>\n",
       "      <th>2019-08-03 00:00:00+00:00</th>\n",
       "      <td>NaN</td>\n",
       "      <td>10,821.726562</td>\n",
       "      <td>NaN</td>\n",
       "    </tr>\n",
       "    <tr>\n",
       "      <th>2019-08-04 00:00:00+00:00</th>\n",
       "      <td>NaN</td>\n",
       "      <td>10,970.184570</td>\n",
       "      <td>NaN</td>\n",
       "    </tr>\n",
       "    <tr>\n",
       "      <th>2019-08-05 00:00:00+00:00</th>\n",
       "      <td>1,765.130005</td>\n",
       "      <td>11,805.653320</td>\n",
       "      <td>7.046705</td>\n",
       "    </tr>\n",
       "    <tr>\n",
       "      <th>...</th>\n",
       "      <td>...</td>\n",
       "      <td>...</td>\n",
       "      <td>...</td>\n",
       "    </tr>\n",
       "    <tr>\n",
       "      <th>2024-07-27 00:00:00+00:00</th>\n",
       "      <td>NaN</td>\n",
       "      <td>67,813.335938</td>\n",
       "      <td>NaN</td>\n",
       "    </tr>\n",
       "    <tr>\n",
       "      <th>2024-07-28 00:00:00+00:00</th>\n",
       "      <td>NaN</td>\n",
       "      <td>68,255.867188</td>\n",
       "      <td>NaN</td>\n",
       "    </tr>\n",
       "    <tr>\n",
       "      <th>2024-07-29 00:00:00+00:00</th>\n",
       "      <td>183.199997</td>\n",
       "      <td>66,819.914062</td>\n",
       "      <td>10.357336</td>\n",
       "    </tr>\n",
       "    <tr>\n",
       "      <th>2024-07-30 00:00:00+00:00</th>\n",
       "      <td>181.710007</td>\n",
       "      <td>66,201.015625</td>\n",
       "      <td>10.197413</td>\n",
       "    </tr>\n",
       "    <tr>\n",
       "      <th>2024-07-31 00:00:00+00:00</th>\n",
       "      <td>186.979996</td>\n",
       "      <td>64,619.250000</td>\n",
       "      <td>10.178599</td>\n",
       "    </tr>\n",
       "  </tbody>\n",
       "</table>\n",
       "<p>1827 rows × 3 columns</p>\n",
       "</div>"
      ],
      "text/plain": [
       "Ticker                            AMZN       BTC-USD         F\n",
       "Date                                                          \n",
       "2019-08-01 00:00:00+00:00 1,855.319977 10,399.668945  7.107782\n",
       "2019-08-02 00:00:00+00:00 1,823.240051 10,518.174805  7.084877\n",
       "2019-08-03 00:00:00+00:00          NaN 10,821.726562       NaN\n",
       "2019-08-04 00:00:00+00:00          NaN 10,970.184570       NaN\n",
       "2019-08-05 00:00:00+00:00 1,765.130005 11,805.653320  7.046705\n",
       "...                                ...           ...       ...\n",
       "2024-07-27 00:00:00+00:00          NaN 67,813.335938       NaN\n",
       "2024-07-28 00:00:00+00:00          NaN 68,255.867188       NaN\n",
       "2024-07-29 00:00:00+00:00   183.199997 66,819.914062 10.357336\n",
       "2024-07-30 00:00:00+00:00   181.710007 66,201.015625 10.197413\n",
       "2024-07-31 00:00:00+00:00   186.979996 64,619.250000 10.178599\n",
       "\n",
       "[1827 rows x 3 columns]"
      ]
     },
     "execution_count": 3,
     "metadata": {},
     "output_type": "execute_result"
    }
   ],
   "source": [
    "# Starting and end dates\n",
    "start = datetime.date(2019, 8, 1)\n",
    "end = datetime.date(2024, 8, 1)\n",
    "\n",
    "# Get Amazon, Ford and Bitcoin data\n",
    "df = yfin.download([\"AMZN\", \"F\", \"BTC-USD\"], start, end, auto_adjust = False)[\"Adj Close\"]\n",
    "\n",
    "# Convert DataFrame index to timezone-aware (UTC)\n",
    "df.index = df.index.tz_localize('UTC')\n",
    "\n",
    "# Define split date as a timezone-aware timestamp\n",
    "split_date = pd.Timestamp(datetime.date(2022, 6, 6)).tz_localize('UTC')  # Date of the stock split\n",
    "split_ratio = 20\n",
    "\n",
    "# Adjust AMZN prices only before the split date\n",
    "for i in range(len(df[\"AMZN\"])):\n",
    "  if df[\"AMZN\"].index[i] < split_date:\n",
    "    df.loc[df[\"AMZN\"].index[i], \"AMZN\"] = df.loc[df[\"AMZN\"].index[i], \"AMZN\"] * split_ratio\n",
    "df"
   ]
  },
  {
   "cell_type": "code",
   "execution_count": 5,
   "id": "5fa5f8fe-a57e-4b80-a586-8566232fa720",
   "metadata": {},
   "outputs": [
    {
     "data": {
      "text/html": [
       "<div>\n",
       "<style scoped>\n",
       "    .dataframe tbody tr th:only-of-type {\n",
       "        vertical-align: middle;\n",
       "    }\n",
       "\n",
       "    .dataframe tbody tr th {\n",
       "        vertical-align: top;\n",
       "    }\n",
       "\n",
       "    .dataframe thead th {\n",
       "        text-align: right;\n",
       "    }\n",
       "</style>\n",
       "<table border=\"1\" class=\"dataframe\">\n",
       "  <thead>\n",
       "    <tr style=\"text-align: right;\">\n",
       "      <th>Ticker</th>\n",
       "      <th>AMZN</th>\n",
       "      <th>BTC-USD</th>\n",
       "      <th>F</th>\n",
       "    </tr>\n",
       "    <tr>\n",
       "      <th>Date</th>\n",
       "      <th></th>\n",
       "      <th></th>\n",
       "      <th></th>\n",
       "    </tr>\n",
       "  </thead>\n",
       "  <tbody>\n",
       "    <tr>\n",
       "      <th>2019-08-01 00:00:00+00:00</th>\n",
       "      <td>1,855.319977</td>\n",
       "      <td>10,399.668945</td>\n",
       "      <td>7.107782</td>\n",
       "    </tr>\n",
       "    <tr>\n",
       "      <th>2019-08-02 00:00:00+00:00</th>\n",
       "      <td>1,823.240051</td>\n",
       "      <td>10,518.174805</td>\n",
       "      <td>7.084877</td>\n",
       "    </tr>\n",
       "    <tr>\n",
       "      <th>2019-08-03 00:00:00+00:00</th>\n",
       "      <td>NaN</td>\n",
       "      <td>10,821.726562</td>\n",
       "      <td>NaN</td>\n",
       "    </tr>\n",
       "    <tr>\n",
       "      <th>2019-08-04 00:00:00+00:00</th>\n",
       "      <td>NaN</td>\n",
       "      <td>10,970.184570</td>\n",
       "      <td>NaN</td>\n",
       "    </tr>\n",
       "    <tr>\n",
       "      <th>2019-08-05 00:00:00+00:00</th>\n",
       "      <td>1,765.130005</td>\n",
       "      <td>11,805.653320</td>\n",
       "      <td>7.046705</td>\n",
       "    </tr>\n",
       "    <tr>\n",
       "      <th>2019-08-06 00:00:00+00:00</th>\n",
       "      <td>1,787.830048</td>\n",
       "      <td>11,478.168945</td>\n",
       "      <td>7.237568</td>\n",
       "    </tr>\n",
       "    <tr>\n",
       "      <th>2019-08-07 00:00:00+00:00</th>\n",
       "      <td>1,793.399963</td>\n",
       "      <td>11,941.968750</td>\n",
       "      <td>7.275742</td>\n",
       "    </tr>\n",
       "    <tr>\n",
       "      <th>2019-08-08 00:00:00+00:00</th>\n",
       "      <td>1,832.890015</td>\n",
       "      <td>11,966.407227</td>\n",
       "      <td>7.298646</td>\n",
       "    </tr>\n",
       "    <tr>\n",
       "      <th>2019-08-09 00:00:00+00:00</th>\n",
       "      <td>1,807.579956</td>\n",
       "      <td>11,862.936523</td>\n",
       "      <td>7.214665</td>\n",
       "    </tr>\n",
       "    <tr>\n",
       "      <th>2019-08-10 00:00:00+00:00</th>\n",
       "      <td>NaN</td>\n",
       "      <td>11,354.024414</td>\n",
       "      <td>NaN</td>\n",
       "    </tr>\n",
       "  </tbody>\n",
       "</table>\n",
       "</div>"
      ],
      "text/plain": [
       "Ticker                            AMZN       BTC-USD        F\n",
       "Date                                                         \n",
       "2019-08-01 00:00:00+00:00 1,855.319977 10,399.668945 7.107782\n",
       "2019-08-02 00:00:00+00:00 1,823.240051 10,518.174805 7.084877\n",
       "2019-08-03 00:00:00+00:00          NaN 10,821.726562      NaN\n",
       "2019-08-04 00:00:00+00:00          NaN 10,970.184570      NaN\n",
       "2019-08-05 00:00:00+00:00 1,765.130005 11,805.653320 7.046705\n",
       "2019-08-06 00:00:00+00:00 1,787.830048 11,478.168945 7.237568\n",
       "2019-08-07 00:00:00+00:00 1,793.399963 11,941.968750 7.275742\n",
       "2019-08-08 00:00:00+00:00 1,832.890015 11,966.407227 7.298646\n",
       "2019-08-09 00:00:00+00:00 1,807.579956 11,862.936523 7.214665\n",
       "2019-08-10 00:00:00+00:00          NaN 11,354.024414      NaN"
      ]
     },
     "execution_count": 5,
     "metadata": {},
     "output_type": "execute_result"
    }
   ],
   "source": [
    "df.head(10)"
   ]
  },
  {
   "cell_type": "code",
   "execution_count": 7,
   "id": "cd454c7b-1c31-4ec0-9d7c-7c279da52dea",
   "metadata": {},
   "outputs": [
    {
     "data": {
      "text/html": [
       "<div>\n",
       "<style scoped>\n",
       "    .dataframe tbody tr th:only-of-type {\n",
       "        vertical-align: middle;\n",
       "    }\n",
       "\n",
       "    .dataframe tbody tr th {\n",
       "        vertical-align: top;\n",
       "    }\n",
       "\n",
       "    .dataframe thead th {\n",
       "        text-align: right;\n",
       "    }\n",
       "</style>\n",
       "<table border=\"1\" class=\"dataframe\">\n",
       "  <thead>\n",
       "    <tr style=\"text-align: right;\">\n",
       "      <th>Ticker</th>\n",
       "      <th>AMZN</th>\n",
       "      <th>BTC-USD</th>\n",
       "      <th>F</th>\n",
       "    </tr>\n",
       "  </thead>\n",
       "  <tbody>\n",
       "    <tr>\n",
       "      <th>count</th>\n",
       "      <td>1,258.000000</td>\n",
       "      <td>1,827.000000</td>\n",
       "      <td>1,258.000000</td>\n",
       "    </tr>\n",
       "    <tr>\n",
       "      <th>mean</th>\n",
       "      <td>1,660.568330</td>\n",
       "      <td>30,854.084965</td>\n",
       "      <td>9.823950</td>\n",
       "    </tr>\n",
       "    <tr>\n",
       "      <th>std</th>\n",
       "      <td>1,409.699586</td>\n",
       "      <td>18,350.840533</td>\n",
       "      <td>2.989040</td>\n",
       "    </tr>\n",
       "    <tr>\n",
       "      <th>min</th>\n",
       "      <td>81.820000</td>\n",
       "      <td>4,970.788086</td>\n",
       "      <td>3.164624</td>\n",
       "    </tr>\n",
       "    <tr>\n",
       "      <th>25%</th>\n",
       "      <td>135.307495</td>\n",
       "      <td>13,602.354004</td>\n",
       "      <td>7.132037</td>\n",
       "    </tr>\n",
       "    <tr>\n",
       "      <th>50%</th>\n",
       "      <td>1,807.709961</td>\n",
       "      <td>28,033.562500</td>\n",
       "      <td>10.371442</td>\n",
       "    </tr>\n",
       "    <tr>\n",
       "      <th>75%</th>\n",
       "      <td>3,161.874924</td>\n",
       "      <td>43,593.824219</td>\n",
       "      <td>11.503030</td>\n",
       "    </tr>\n",
       "    <tr>\n",
       "      <th>max</th>\n",
       "      <td>3,731.409912</td>\n",
       "      <td>73,083.500000</td>\n",
       "      <td>19.979622</td>\n",
       "    </tr>\n",
       "  </tbody>\n",
       "</table>\n",
       "</div>"
      ],
      "text/plain": [
       "Ticker         AMZN       BTC-USD            F\n",
       "count  1,258.000000  1,827.000000 1,258.000000\n",
       "mean   1,660.568330 30,854.084965     9.823950\n",
       "std    1,409.699586 18,350.840533     2.989040\n",
       "min       81.820000  4,970.788086     3.164624\n",
       "25%      135.307495 13,602.354004     7.132037\n",
       "50%    1,807.709961 28,033.562500    10.371442\n",
       "75%    3,161.874924 43,593.824219    11.503030\n",
       "max    3,731.409912 73,083.500000    19.979622"
      ]
     },
     "execution_count": 7,
     "metadata": {},
     "output_type": "execute_result"
    }
   ],
   "source": [
    "df.describe()"
   ]
  },
  {
   "cell_type": "code",
   "execution_count": 9,
   "id": "756c4a67-7651-4688-869e-738672d3fb00",
   "metadata": {},
   "outputs": [
    {
     "data": {
      "image/png": "[encoded data removed]",
      "text/plain": [
       "<Figure size 1300x700 with 3 Axes>"
      ]
     },
     "metadata": {},
     "output_type": "display_data"
    }
   ],
   "source": [
    "# Create the figure.\n",
    "# We want a plot where the three assets have the same index (x-axis) but different scale (y-axis)\n",
    "fig = plt.figure(figsize=(13,7))\n",
    "ax1 = fig.add_subplot(111)\n",
    "ax2 = ax1.twinx()\n",
    "ax3 = ax1.twinx()\n",
    "\n",
    "# Plot the data\n",
    "df[\"2023-01-01\":\"2023-12-31\"].plot(ax=ax1, y='AMZN', legend=True)\n",
    "df[\"2023-01-01\":\"2023-12-31\"].plot(ax=ax2, y='BTC-USD', legend=True, color='g')\n",
    "df[\"2023-01-01\":\"2023-12-31\"].plot(ax=ax3, y='F', legend=True, color='r')\n",
    "\n",
    "# We set the labels to the axes\n",
    "ax1.set_ylabel('AMZN')\n",
    "ax2.set_ylabel('BTC-USD')\n",
    "ax3.set_ylabel('F')\n",
    "ax3.spines['right'].set_position(('outward', 60))\n",
    "\n",
    "# Set position of legends\n",
    "ax1.legend(['AMZN'], loc='upper left')\n",
    "ax2.legend(['BTC-USD'], loc='upper left', bbox_to_anchor=(0, 0.95))\n",
    "ax3.legend(['F'], loc='upper left', bbox_to_anchor=(0, 0.9))\n",
    "\n",
    "plt.show()"
   ]
  },
  {
   "cell_type": "code",
   "execution_count": 11,
   "id": "4a15f89c-bfff-454b-9e2c-f766eb48b721",
   "metadata": {},
   "outputs": [
    {
     "name": "stdout",
     "output_type": "stream",
     "text": [
      "Purchase price of AMZN: 1855.32\n",
      "Purchase price of F: 7.108\n",
      "Purchase price of BTC-USD: 10399.669\n",
      " - - - - - - - - - -\n",
      "Number of shares of AMZN: 0.539\n",
      "Number of shares of F: 140.691\n",
      "Number of shares of BTC-USD: 0.096\n"
     ]
    }
   ],
   "source": [
    "# Access the first row of the DataFrame\n",
    "first_row = df.iloc[0]\n",
    "\n",
    "# Assign price values to variables\n",
    "amzn_price = first_row[\"AMZN\"]\n",
    "f_price = first_row[\"F\"]\n",
    "btc_price = first_row[\"BTC-USD\"]\n",
    "\n",
    "# Print price values\n",
    "print(\"Purchase price of AMZN:\", np.round(amzn_price, 3))\n",
    "print(\"Purchase price of F:\", np.round(f_price, 3))\n",
    "print(\"Purchase price of BTC-USD:\", np.round(btc_price, 3))\n",
    "print(\" - - - - - - - - - -\")\n",
    "\n",
    "# Divide $1,000 by each of price values to get number of shares\n",
    "amzn_shares = 1000 / amzn_price\n",
    "f_shares = 1000 / f_price\n",
    "btc_shares = 1000 / btc_price\n",
    "\n",
    "# Print number of shares for each ticker\n",
    "print(\"Number of shares of AMZN:\", np.round(amzn_shares, 3))\n",
    "print(\"Number of shares of F:\", np.round(f_shares, 3))\n",
    "print(\"Number of shares of BTC-USD:\", np.round(btc_shares, 3))"
   ]
  },
  {
   "cell_type": "code",
   "execution_count": 13,
   "id": "91aa5b8f-f6cc-4034-8eb7-8d06edebb007",
   "metadata": {},
   "outputs": [
    {
     "name": "stdout",
     "output_type": "stream",
     "text": [
      "End price of AMZN: 186.98\n",
      "End price of F: 10.179\n",
      "End price of BTC-USD: 64619.25\n",
      " - - - - - - - - - -\n",
      "Holding value of AMZN: 2015.609\n",
      "Holding value of F: 1432.036\n",
      "Holding value of BTC-USD: 6213.587\n"
     ]
    }
   ],
   "source": [
    "# Get last date values from df\n",
    "last_row = df.iloc[-1]\n",
    "\n",
    "# Assign end date price values to variables\n",
    "amzn_price_end = last_row[\"AMZN\"]\n",
    "f_price_end = last_row[\"F\"]\n",
    "btc_price_end = last_row[\"BTC-USD\"]\n",
    "\n",
    "# Print end date prices\n",
    "print(\"End price of AMZN:\", np.round(amzn_price_end, 3))\n",
    "print(\"End price of F:\", np.round(f_price_end, 3))\n",
    "print(\"End price of BTC-USD:\", np.round(btc_price_end, 3))\n",
    "print(\" - - - - - - - - - -\")\n",
    "\n",
    "# Compute end date values for each ticker\n",
    "amzn_value = amzn_price_end * amzn_shares *20  # need 20 times multiple due to stock split\n",
    "f_value = f_price_end * f_shares\n",
    "btc_value = btc_price_end * btc_shares\n",
    "\n",
    "# Print end date values\n",
    "print(\"Holding value of AMZN:\", np.round(amzn_value, 3))\n",
    "print(\"Holding value of F:\", np.round(f_value, 3))\n",
    "print(\"Holding value of BTC-USD:\", np.round(btc_value, 3))"
   ]
  },
  {
   "cell_type": "code",
   "execution_count": 15,
   "id": "a0681176-9136-4c53-b3cf-c0b5e79b4f26",
   "metadata": {},
   "outputs": [
    {
     "name": "stdout",
     "output_type": "stream",
     "text": [
      "Simple return of AMZN: 101.561 %\n",
      "Simple return of F: 43.204 %\n",
      "Simple return of BTC-USD: 521.359 %\n"
     ]
    }
   ],
   "source": [
    "# Compute simple returns\n",
    "amzn_return = (amzn_value - 1000) / 1000\n",
    "f_return = (f_value - 1000) / 1000\n",
    "btc_return = (btc_value - 1000) / 1000\n",
    "\n",
    "# Print the returns\n",
    "print(\"Simple return of AMZN:\", np.round(amzn_return * 100, 3), \"%\")\n",
    "print(\"Simple return of F:\", np.round(f_return * 100, 3), \"%\")\n",
    "print(\"Simple return of BTC-USD:\", np.round(btc_return * 100, 3), \"%\")"
   ]
  },
  {
   "cell_type": "code",
   "execution_count": 17,
   "id": "8e303677-fceb-46a8-97dc-2edb0c0aeb84",
   "metadata": {},
   "outputs": [
    {
     "name": "stderr",
     "output_type": "stream",
     "text": [
      "[*********************100%***********************]  1 of 1 completed\n"
     ]
    },
    {
     "data": {
      "text/html": [
       "<div>\n",
       "<style scoped>\n",
       "    .dataframe tbody tr th:only-of-type {\n",
       "        vertical-align: middle;\n",
       "    }\n",
       "\n",
       "    .dataframe tbody tr th {\n",
       "        vertical-align: top;\n",
       "    }\n",
       "\n",
       "    .dataframe thead th {\n",
       "        text-align: right;\n",
       "    }\n",
       "</style>\n",
       "<table border=\"1\" class=\"dataframe\">\n",
       "  <thead>\n",
       "    <tr style=\"text-align: right;\">\n",
       "      <th>Ticker</th>\n",
       "      <th>AMZN</th>\n",
       "      <th>BTC-USD</th>\n",
       "      <th>F</th>\n",
       "      <th>BLV</th>\n",
       "    </tr>\n",
       "    <tr>\n",
       "      <th>Date</th>\n",
       "      <th></th>\n",
       "      <th></th>\n",
       "      <th></th>\n",
       "      <th></th>\n",
       "    </tr>\n",
       "  </thead>\n",
       "  <tbody>\n",
       "    <tr>\n",
       "      <th>2019-08-01 00:00:00+00:00</th>\n",
       "      <td>1,855.319977</td>\n",
       "      <td>10,399.668945</td>\n",
       "      <td>7.107782</td>\n",
       "      <td>77.323608</td>\n",
       "    </tr>\n",
       "    <tr>\n",
       "      <th>2019-08-02 00:00:00+00:00</th>\n",
       "      <td>1,823.240051</td>\n",
       "      <td>10,518.174805</td>\n",
       "      <td>7.084877</td>\n",
       "      <td>77.865005</td>\n",
       "    </tr>\n",
       "    <tr>\n",
       "      <th>2019-08-03 00:00:00+00:00</th>\n",
       "      <td>NaN</td>\n",
       "      <td>10,821.726562</td>\n",
       "      <td>NaN</td>\n",
       "      <td>NaN</td>\n",
       "    </tr>\n",
       "    <tr>\n",
       "      <th>2019-08-04 00:00:00+00:00</th>\n",
       "      <td>NaN</td>\n",
       "      <td>10,970.184570</td>\n",
       "      <td>NaN</td>\n",
       "      <td>NaN</td>\n",
       "    </tr>\n",
       "    <tr>\n",
       "      <th>2019-08-05 00:00:00+00:00</th>\n",
       "      <td>1,765.130005</td>\n",
       "      <td>11,805.653320</td>\n",
       "      <td>7.046705</td>\n",
       "      <td>78.531898</td>\n",
       "    </tr>\n",
       "    <tr>\n",
       "      <th>...</th>\n",
       "      <td>...</td>\n",
       "      <td>...</td>\n",
       "      <td>...</td>\n",
       "      <td>...</td>\n",
       "    </tr>\n",
       "    <tr>\n",
       "      <th>2024-07-27 00:00:00+00:00</th>\n",
       "      <td>NaN</td>\n",
       "      <td>67,813.335938</td>\n",
       "      <td>NaN</td>\n",
       "      <td>NaN</td>\n",
       "    </tr>\n",
       "    <tr>\n",
       "      <th>2024-07-28 00:00:00+00:00</th>\n",
       "      <td>NaN</td>\n",
       "      <td>68,255.867188</td>\n",
       "      <td>NaN</td>\n",
       "      <td>NaN</td>\n",
       "    </tr>\n",
       "    <tr>\n",
       "      <th>2024-07-29 00:00:00+00:00</th>\n",
       "      <td>183.199997</td>\n",
       "      <td>66,819.914062</td>\n",
       "      <td>10.357336</td>\n",
       "      <td>69.508568</td>\n",
       "    </tr>\n",
       "    <tr>\n",
       "      <th>2024-07-30 00:00:00+00:00</th>\n",
       "      <td>181.710007</td>\n",
       "      <td>66,201.015625</td>\n",
       "      <td>10.197413</td>\n",
       "      <td>69.654190</td>\n",
       "    </tr>\n",
       "    <tr>\n",
       "      <th>2024-07-31 00:00:00+00:00</th>\n",
       "      <td>186.979996</td>\n",
       "      <td>64,619.250000</td>\n",
       "      <td>10.178599</td>\n",
       "      <td>70.285210</td>\n",
       "    </tr>\n",
       "  </tbody>\n",
       "</table>\n",
       "<p>1827 rows × 4 columns</p>\n",
       "</div>"
      ],
      "text/plain": [
       "Ticker                            AMZN       BTC-USD         F       BLV\n",
       "Date                                                                    \n",
       "2019-08-01 00:00:00+00:00 1,855.319977 10,399.668945  7.107782 77.323608\n",
       "2019-08-02 00:00:00+00:00 1,823.240051 10,518.174805  7.084877 77.865005\n",
       "2019-08-03 00:00:00+00:00          NaN 10,821.726562       NaN       NaN\n",
       "2019-08-04 00:00:00+00:00          NaN 10,970.184570       NaN       NaN\n",
       "2019-08-05 00:00:00+00:00 1,765.130005 11,805.653320  7.046705 78.531898\n",
       "...                                ...           ...       ...       ...\n",
       "2024-07-27 00:00:00+00:00          NaN 67,813.335938       NaN       NaN\n",
       "2024-07-28 00:00:00+00:00          NaN 68,255.867188       NaN       NaN\n",
       "2024-07-29 00:00:00+00:00   183.199997 66,819.914062 10.357336 69.508568\n",
       "2024-07-30 00:00:00+00:00   181.710007 66,201.015625 10.197413 69.654190\n",
       "2024-07-31 00:00:00+00:00   186.979996 64,619.250000 10.178599 70.285210\n",
       "\n",
       "[1827 rows x 4 columns]"
      ]
     },
     "execution_count": 17,
     "metadata": {},
     "output_type": "execute_result"
    }
   ],
   "source": [
    "df = df.join(yfin.download([\"BLV\"], start, end, auto_adjust = False)[\"Adj Close\"].tz_localize('UTC'))\n",
    "#df.rename(columns={\"Adj Close\": \"BLV\"}, inplace=True)\n",
    "df"
   ]
  },
  {
   "cell_type": "code",
   "execution_count": 19,
   "id": "ec3ab1d0-6412-4993-ba66-f3ec388cb238",
   "metadata": {},
   "outputs": [
    {
     "data": {
      "text/html": [
       "<div>\n",
       "<style scoped>\n",
       "    .dataframe tbody tr th:only-of-type {\n",
       "        vertical-align: middle;\n",
       "    }\n",
       "\n",
       "    .dataframe tbody tr th {\n",
       "        vertical-align: top;\n",
       "    }\n",
       "\n",
       "    .dataframe thead th {\n",
       "        text-align: right;\n",
       "    }\n",
       "</style>\n",
       "<table border=\"1\" class=\"dataframe\">\n",
       "  <thead>\n",
       "    <tr style=\"text-align: right;\">\n",
       "      <th>Ticker</th>\n",
       "      <th>BTC-USD</th>\n",
       "      <th>AMZN</th>\n",
       "      <th>F</th>\n",
       "      <th>BLV</th>\n",
       "    </tr>\n",
       "    <tr>\n",
       "      <th>Date</th>\n",
       "      <th></th>\n",
       "      <th></th>\n",
       "      <th></th>\n",
       "      <th></th>\n",
       "    </tr>\n",
       "  </thead>\n",
       "  <tbody>\n",
       "    <tr>\n",
       "      <th>2019-08-02 00:00:00+00:00</th>\n",
       "      <td>0.011395</td>\n",
       "      <td>-0.017291</td>\n",
       "      <td>-0.003223</td>\n",
       "      <td>0.007002</td>\n",
       "    </tr>\n",
       "    <tr>\n",
       "      <th>2019-08-03 00:00:00+00:00</th>\n",
       "      <td>0.028860</td>\n",
       "      <td>NaN</td>\n",
       "      <td>NaN</td>\n",
       "      <td>NaN</td>\n",
       "    </tr>\n",
       "    <tr>\n",
       "      <th>2019-08-04 00:00:00+00:00</th>\n",
       "      <td>0.013719</td>\n",
       "      <td>NaN</td>\n",
       "      <td>NaN</td>\n",
       "      <td>NaN</td>\n",
       "    </tr>\n",
       "    <tr>\n",
       "      <th>2019-08-05 00:00:00+00:00</th>\n",
       "      <td>0.076158</td>\n",
       "      <td>-0.031872</td>\n",
       "      <td>-0.005388</td>\n",
       "      <td>0.008565</td>\n",
       "    </tr>\n",
       "    <tr>\n",
       "      <th>2019-08-06 00:00:00+00:00</th>\n",
       "      <td>-0.027740</td>\n",
       "      <td>0.012860</td>\n",
       "      <td>0.027085</td>\n",
       "      <td>0.006695</td>\n",
       "    </tr>\n",
       "    <tr>\n",
       "      <th>...</th>\n",
       "      <td>...</td>\n",
       "      <td>...</td>\n",
       "      <td>...</td>\n",
       "      <td>...</td>\n",
       "    </tr>\n",
       "    <tr>\n",
       "      <th>2024-07-27 00:00:00+00:00</th>\n",
       "      <td>-0.001454</td>\n",
       "      <td>NaN</td>\n",
       "      <td>NaN</td>\n",
       "      <td>NaN</td>\n",
       "    </tr>\n",
       "    <tr>\n",
       "      <th>2024-07-28 00:00:00+00:00</th>\n",
       "      <td>0.006526</td>\n",
       "      <td>NaN</td>\n",
       "      <td>NaN</td>\n",
       "      <td>NaN</td>\n",
       "    </tr>\n",
       "    <tr>\n",
       "      <th>2024-07-29 00:00:00+00:00</th>\n",
       "      <td>-0.021038</td>\n",
       "      <td>0.003836</td>\n",
       "      <td>-0.016086</td>\n",
       "      <td>0.003785</td>\n",
       "    </tr>\n",
       "    <tr>\n",
       "      <th>2024-07-30 00:00:00+00:00</th>\n",
       "      <td>-0.009262</td>\n",
       "      <td>-0.008133</td>\n",
       "      <td>-0.015441</td>\n",
       "      <td>0.002095</td>\n",
       "    </tr>\n",
       "    <tr>\n",
       "      <th>2024-07-31 00:00:00+00:00</th>\n",
       "      <td>-0.023893</td>\n",
       "      <td>0.029002</td>\n",
       "      <td>-0.001845</td>\n",
       "      <td>0.009059</td>\n",
       "    </tr>\n",
       "  </tbody>\n",
       "</table>\n",
       "<p>1826 rows × 4 columns</p>\n",
       "</div>"
      ],
      "text/plain": [
       "Ticker                      BTC-USD      AMZN         F      BLV\n",
       "Date                                                            \n",
       "2019-08-02 00:00:00+00:00  0.011395 -0.017291 -0.003223 0.007002\n",
       "2019-08-03 00:00:00+00:00  0.028860       NaN       NaN      NaN\n",
       "2019-08-04 00:00:00+00:00  0.013719       NaN       NaN      NaN\n",
       "2019-08-05 00:00:00+00:00  0.076158 -0.031872 -0.005388 0.008565\n",
       "2019-08-06 00:00:00+00:00 -0.027740  0.012860  0.027085 0.006695\n",
       "...                             ...       ...       ...      ...\n",
       "2024-07-27 00:00:00+00:00 -0.001454       NaN       NaN      NaN\n",
       "2024-07-28 00:00:00+00:00  0.006526       NaN       NaN      NaN\n",
       "2024-07-29 00:00:00+00:00 -0.021038  0.003836 -0.016086 0.003785\n",
       "2024-07-30 00:00:00+00:00 -0.009262 -0.008133 -0.015441 0.002095\n",
       "2024-07-31 00:00:00+00:00 -0.023893  0.029002 -0.001845 0.009059\n",
       "\n",
       "[1826 rows x 4 columns]"
      ]
     },
     "execution_count": 19,
     "metadata": {},
     "output_type": "execute_result"
    }
   ],
   "source": [
    "# In order to calculate the returns of the stocks, we need to drop the NA rows.\n",
    "returns_stocks_BLV = df[['AMZN', 'F', 'BLV']].dropna().pct_change()\n",
    "\n",
    "# Crypto is traded 24/7\n",
    "returns_BTC = df[['BTC-USD']].pct_change()\n",
    "\n",
    "# We broadcast the index of crypto on the stocks in order to join the datasets having NaN for weekends within stocks and BLV columns\n",
    "returns_stocks = returns_stocks_BLV.reindex(returns_BTC.index)\n",
    "returns = returns_BTC.join(returns_stocks_BLV, how = 'outer')[1:]\n",
    "returns"
   ]
  },
  {
   "cell_type": "code",
   "execution_count": 21,
   "id": "2635f5cc-cc40-451a-ab67-2b1150b77fa9",
   "metadata": {},
   "outputs": [
    {
     "data": {
      "text/html": [
       "<div>\n",
       "<style scoped>\n",
       "    .dataframe tbody tr th:only-of-type {\n",
       "        vertical-align: middle;\n",
       "    }\n",
       "\n",
       "    .dataframe tbody tr th {\n",
       "        vertical-align: top;\n",
       "    }\n",
       "\n",
       "    .dataframe thead th {\n",
       "        text-align: right;\n",
       "    }\n",
       "</style>\n",
       "<table border=\"1\" class=\"dataframe\">\n",
       "  <thead>\n",
       "    <tr style=\"text-align: right;\">\n",
       "      <th>Ticker</th>\n",
       "      <th>BTC-USD</th>\n",
       "      <th>AMZN</th>\n",
       "      <th>F</th>\n",
       "      <th>BLV</th>\n",
       "    </tr>\n",
       "  </thead>\n",
       "  <tbody>\n",
       "    <tr>\n",
       "      <th>count</th>\n",
       "      <td>1,826.000000</td>\n",
       "      <td>1,257.000000</td>\n",
       "      <td>1,257.000000</td>\n",
       "      <td>1,257.000000</td>\n",
       "    </tr>\n",
       "    <tr>\n",
       "      <th>mean</th>\n",
       "      <td>0.001579</td>\n",
       "      <td>0.000032</td>\n",
       "      <td>0.000671</td>\n",
       "      <td>-0.000034</td>\n",
       "    </tr>\n",
       "    <tr>\n",
       "      <th>std</th>\n",
       "      <td>0.033707</td>\n",
       "      <td>0.034772</td>\n",
       "      <td>0.027760</td>\n",
       "      <td>0.009179</td>\n",
       "    </tr>\n",
       "    <tr>\n",
       "      <th>min</th>\n",
       "      <td>-0.371695</td>\n",
       "      <td>-0.949003</td>\n",
       "      <td>-0.183614</td>\n",
       "      <td>-0.075169</td>\n",
       "    </tr>\n",
       "    <tr>\n",
       "      <th>25%</th>\n",
       "      <td>-0.013480</td>\n",
       "      <td>-0.011077</td>\n",
       "      <td>-0.013605</td>\n",
       "      <td>-0.005254</td>\n",
       "    </tr>\n",
       "    <tr>\n",
       "      <th>50%</th>\n",
       "      <td>0.000234</td>\n",
       "      <td>0.000554</td>\n",
       "      <td>0.000000</td>\n",
       "      <td>0.000571</td>\n",
       "    </tr>\n",
       "    <tr>\n",
       "      <th>75%</th>\n",
       "      <td>0.015996</td>\n",
       "      <td>0.012220</td>\n",
       "      <td>0.014212</td>\n",
       "      <td>0.005206</td>\n",
       "    </tr>\n",
       "    <tr>\n",
       "      <th>max</th>\n",
       "      <td>0.187465</td>\n",
       "      <td>0.135359</td>\n",
       "      <td>0.234414</td>\n",
       "      <td>0.049138</td>\n",
       "    </tr>\n",
       "  </tbody>\n",
       "</table>\n",
       "</div>"
      ],
      "text/plain": [
       "Ticker      BTC-USD         AMZN            F          BLV\n",
       "count  1,826.000000 1,257.000000 1,257.000000 1,257.000000\n",
       "mean       0.001579     0.000032     0.000671    -0.000034\n",
       "std        0.033707     0.034772     0.027760     0.009179\n",
       "min       -0.371695    -0.949003    -0.183614    -0.075169\n",
       "25%       -0.013480    -0.011077    -0.013605    -0.005254\n",
       "50%        0.000234     0.000554     0.000000     0.000571\n",
       "75%        0.015996     0.012220     0.014212     0.005206\n",
       "max        0.187465     0.135359     0.234414     0.049138"
      ]
     },
     "execution_count": 21,
     "metadata": {},
     "output_type": "execute_result"
    }
   ],
   "source": [
    "returns.describe()"
   ]
  },
  {
   "cell_type": "code",
   "execution_count": 23,
   "id": "6e94d51b-5e23-4f5b-8d39-0bb1f32d8979",
   "metadata": {},
   "outputs": [
    {
     "data": {
      "text/html": [
       "<div>\n",
       "<style scoped>\n",
       "    .dataframe tbody tr th:only-of-type {\n",
       "        vertical-align: middle;\n",
       "    }\n",
       "\n",
       "    .dataframe tbody tr th {\n",
       "        vertical-align: top;\n",
       "    }\n",
       "\n",
       "    .dataframe thead th {\n",
       "        text-align: right;\n",
       "    }\n",
       "</style>\n",
       "<table border=\"1\" class=\"dataframe\">\n",
       "  <thead>\n",
       "    <tr style=\"text-align: right;\">\n",
       "      <th>Ticker</th>\n",
       "      <th>BTC-USD</th>\n",
       "      <th>F</th>\n",
       "    </tr>\n",
       "  </thead>\n",
       "  <tbody>\n",
       "    <tr>\n",
       "      <th>count</th>\n",
       "      <td>1,826.000000</td>\n",
       "      <td>1,257.000000</td>\n",
       "    </tr>\n",
       "    <tr>\n",
       "      <th>mean</th>\n",
       "      <td>0.001579</td>\n",
       "      <td>0.000671</td>\n",
       "    </tr>\n",
       "    <tr>\n",
       "      <th>std</th>\n",
       "      <td>0.033707</td>\n",
       "      <td>0.027760</td>\n",
       "    </tr>\n",
       "    <tr>\n",
       "      <th>min</th>\n",
       "      <td>-0.371695</td>\n",
       "      <td>-0.183614</td>\n",
       "    </tr>\n",
       "    <tr>\n",
       "      <th>25%</th>\n",
       "      <td>-0.013480</td>\n",
       "      <td>-0.013605</td>\n",
       "    </tr>\n",
       "    <tr>\n",
       "      <th>50%</th>\n",
       "      <td>0.000234</td>\n",
       "      <td>0.000000</td>\n",
       "    </tr>\n",
       "    <tr>\n",
       "      <th>75%</th>\n",
       "      <td>0.015996</td>\n",
       "      <td>0.014212</td>\n",
       "    </tr>\n",
       "    <tr>\n",
       "      <th>max</th>\n",
       "      <td>0.187465</td>\n",
       "      <td>0.234414</td>\n",
       "    </tr>\n",
       "  </tbody>\n",
       "</table>\n",
       "</div>"
      ],
      "text/plain": [
       "Ticker      BTC-USD            F\n",
       "count  1,826.000000 1,257.000000\n",
       "mean       0.001579     0.000671\n",
       "std        0.033707     0.027760\n",
       "min       -0.371695    -0.183614\n",
       "25%       -0.013480    -0.013605\n",
       "50%        0.000234     0.000000\n",
       "75%        0.015996     0.014212\n",
       "max        0.187465     0.234414"
      ]
     },
     "execution_count": 23,
     "metadata": {},
     "output_type": "execute_result"
    }
   ],
   "source": [
    "(returns.describe()[[\"BTC-USD\", \"F\"]])"
   ]
  },
  {
   "cell_type": "code",
   "execution_count": 25,
   "id": "6d4f4360-5966-4940-9919-4b3b25ddfbb5",
   "metadata": {},
   "outputs": [
    {
     "data": {
      "text/plain": [
       "Ticker\n",
       "BTC-USD   0.440439\n",
       "dtype: float64"
      ]
     },
     "execution_count": 25,
     "metadata": {},
     "output_type": "execute_result"
    }
   ],
   "source": [
    "#Annualize BTC-USD with 365 trading days\n",
    "(np.prod(returns_BTC + 1, axis=0) ** (1/len(returns_BTC))) ** (365) - 1"
   ]
  },
  {
   "cell_type": "code",
   "execution_count": 27,
   "id": "202cda74-f87f-4cb2-9847-6f78ccb2a6b5",
   "metadata": {},
   "outputs": [
    {
     "data": {
      "text/plain": [
       "Ticker\n",
       "AMZN   -0.368522\n",
       "F       0.074584\n",
       "BLV    -0.018936\n",
       "dtype: float64"
      ]
     },
     "execution_count": 27,
     "metadata": {},
     "output_type": "execute_result"
    }
   ],
   "source": [
    "#Annualize stocks with 252 trading days\n",
    "(np.prod(returns_stocks_BLV + 1, axis=0) ** (1/len(returns_stocks_BLV))) ** (252) - 1"
   ]
  },
  {
   "cell_type": "code",
   "execution_count": 29,
   "id": "a217d9c0-f0fa-473a-b585-fc42b66ce97a",
   "metadata": {},
   "outputs": [
    {
     "name": "stdout",
     "output_type": "stream",
     "text": [
      "Simple return rate of BLV: -9.103 %\n",
      "Total simple return of BLV: $ 908.975\n"
     ]
    }
   ],
   "source": [
    "# Get innitial and end prices from df\n",
    "blv_price = df.iloc[0][\"BLV\"]\n",
    "blv_price_end = df.iloc[-1][\"BLV\"]\n",
    "\n",
    "# Compute simple return rate\n",
    "blv_return_rate = (blv_price_end - blv_price) / blv_price\n",
    "print(\"Simple return rate of BLV:\", np.round(blv_return_rate * 100, 3), \"%\")\n",
    "\n",
    "# Compute total simple return\n",
    "total_simple_return = 1000 * (1 + blv_return_rate)\n",
    "print(\"Total simple return of BLV: $\", np.round(total_simple_return, 3))\n"
   ]
  },
  {
   "cell_type": "code",
   "execution_count": 31,
   "id": "995031eb-06ba-42a6-a03f-49003db5f690",
   "metadata": {},
   "outputs": [
    {
     "name": "stderr",
     "output_type": "stream",
     "text": [
      "[*********************100%***********************]  2 of 2 completed\n"
     ]
    },
    {
     "data": {
      "text/html": [
       "<div>\n",
       "<style scoped>\n",
       "    .dataframe tbody tr th:only-of-type {\n",
       "        vertical-align: middle;\n",
       "    }\n",
       "\n",
       "    .dataframe tbody tr th {\n",
       "        vertical-align: top;\n",
       "    }\n",
       "\n",
       "    .dataframe thead th {\n",
       "        text-align: right;\n",
       "    }\n",
       "</style>\n",
       "<table border=\"1\" class=\"dataframe\">\n",
       "  <thead>\n",
       "    <tr style=\"text-align: right;\">\n",
       "      <th>Ticker</th>\n",
       "      <th>SP500</th>\n",
       "      <th>Russell2000</th>\n",
       "    </tr>\n",
       "  </thead>\n",
       "  <tbody>\n",
       "    <tr>\n",
       "      <th>count</th>\n",
       "      <td>1,258.000000</td>\n",
       "      <td>1,258.000000</td>\n",
       "    </tr>\n",
       "    <tr>\n",
       "      <th>mean</th>\n",
       "      <td>4,028.833253</td>\n",
       "      <td>1,865.957234</td>\n",
       "    </tr>\n",
       "    <tr>\n",
       "      <th>std</th>\n",
       "      <td>685.682781</td>\n",
       "      <td>284.232353</td>\n",
       "    </tr>\n",
       "    <tr>\n",
       "      <th>min</th>\n",
       "      <td>2,237.399902</td>\n",
       "      <td>991.159973</td>\n",
       "    </tr>\n",
       "    <tr>\n",
       "      <th>25%</th>\n",
       "      <td>3,502.235046</td>\n",
       "      <td>1,674.337524</td>\n",
       "    </tr>\n",
       "    <tr>\n",
       "      <th>50%</th>\n",
       "      <td>4,110.745117</td>\n",
       "      <td>1,873.654968</td>\n",
       "    </tr>\n",
       "    <tr>\n",
       "      <th>75%</th>\n",
       "      <td>4,468.547485</td>\n",
       "      <td>2,067.780090</td>\n",
       "    </tr>\n",
       "    <tr>\n",
       "      <th>max</th>\n",
       "      <td>5,667.200195</td>\n",
       "      <td>2,442.739990</td>\n",
       "    </tr>\n",
       "  </tbody>\n",
       "</table>\n",
       "</div>"
      ],
      "text/plain": [
       "Ticker        SP500  Russell2000\n",
       "count  1,258.000000 1,258.000000\n",
       "mean   4,028.833253 1,865.957234\n",
       "std      685.682781   284.232353\n",
       "min    2,237.399902   991.159973\n",
       "25%    3,502.235046 1,674.337524\n",
       "50%    4,110.745117 1,873.654968\n",
       "75%    4,468.547485 2,067.780090\n",
       "max    5,667.200195 2,442.739990"
      ]
     },
     "execution_count": 31,
     "metadata": {},
     "output_type": "execute_result"
    }
   ],
   "source": [
    "# Uncomment the following lines to pull most recent data (optional)\n",
    "#start = datetime.date.today()-datetime.timedelta(365*10)\n",
    "#end = datetime.date.today()\n",
    "start = datetime.date(2019, 8, 1)\n",
    "end = datetime.date(2024, 8, 1)\n",
    "\n",
    "# Get data\n",
    "prices = yfin.download([\"^GSPC\", \"^RUT\"], start, end, auto_adjust = False)[\"Adj Close\"]\n",
    "\n",
    "# Rename column to make names more intuitive\n",
    "prices = prices.rename(columns={\"^GSPC\": \"SP500\", \"^RUT\": \"Russell2000\"})\n",
    "\n",
    "# Get dataset stats\n",
    "prices.describe()\n"
   ]
  },
  {
   "cell_type": "code",
   "execution_count": 33,
   "id": "e6e227c8-5419-46bc-a0df-f5ba586f0878",
   "metadata": {},
   "outputs": [
    {
     "data": {
      "text/html": [
       "<div>\n",
       "<style scoped>\n",
       "    .dataframe tbody tr th:only-of-type {\n",
       "        vertical-align: middle;\n",
       "    }\n",
       "\n",
       "    .dataframe tbody tr th {\n",
       "        vertical-align: top;\n",
       "    }\n",
       "\n",
       "    .dataframe thead th {\n",
       "        text-align: right;\n",
       "    }\n",
       "</style>\n",
       "<table border=\"1\" class=\"dataframe\">\n",
       "  <thead>\n",
       "    <tr style=\"text-align: right;\">\n",
       "      <th>Ticker</th>\n",
       "      <th>SP500</th>\n",
       "      <th>Russell2000</th>\n",
       "    </tr>\n",
       "    <tr>\n",
       "      <th>Date</th>\n",
       "      <th></th>\n",
       "      <th></th>\n",
       "    </tr>\n",
       "  </thead>\n",
       "  <tbody>\n",
       "    <tr>\n",
       "      <th>2019-08-01</th>\n",
       "      <td>2,953.560059</td>\n",
       "      <td>1,550.760010</td>\n",
       "    </tr>\n",
       "    <tr>\n",
       "      <th>2019-08-02</th>\n",
       "      <td>2,932.050049</td>\n",
       "      <td>1,533.660034</td>\n",
       "    </tr>\n",
       "    <tr>\n",
       "      <th>2019-08-05</th>\n",
       "      <td>2,844.739990</td>\n",
       "      <td>1,487.410034</td>\n",
       "    </tr>\n",
       "    <tr>\n",
       "      <th>2019-08-06</th>\n",
       "      <td>2,881.770020</td>\n",
       "      <td>1,502.089966</td>\n",
       "    </tr>\n",
       "    <tr>\n",
       "      <th>2019-08-07</th>\n",
       "      <td>2,883.979980</td>\n",
       "      <td>1,500.689941</td>\n",
       "    </tr>\n",
       "  </tbody>\n",
       "</table>\n",
       "</div>"
      ],
      "text/plain": [
       "Ticker            SP500  Russell2000\n",
       "Date                                \n",
       "2019-08-01 2,953.560059 1,550.760010\n",
       "2019-08-02 2,932.050049 1,533.660034\n",
       "2019-08-05 2,844.739990 1,487.410034\n",
       "2019-08-06 2,881.770020 1,502.089966\n",
       "2019-08-07 2,883.979980 1,500.689941"
      ]
     },
     "execution_count": 33,
     "metadata": {},
     "output_type": "execute_result"
    }
   ],
   "source": [
    "# Display first 5 rows\n",
    "prices.head()\n"
   ]
  },
  {
   "cell_type": "code",
   "execution_count": 35,
   "id": "b9915660-d513-440c-831c-8e5207c5a341",
   "metadata": {},
   "outputs": [
    {
     "data": {
      "text/html": [
       "<div>\n",
       "<style scoped>\n",
       "    .dataframe tbody tr th:only-of-type {\n",
       "        vertical-align: middle;\n",
       "    }\n",
       "\n",
       "    .dataframe tbody tr th {\n",
       "        vertical-align: top;\n",
       "    }\n",
       "\n",
       "    .dataframe thead th {\n",
       "        text-align: right;\n",
       "    }\n",
       "</style>\n",
       "<table border=\"1\" class=\"dataframe\">\n",
       "  <thead>\n",
       "    <tr style=\"text-align: right;\">\n",
       "      <th>Ticker</th>\n",
       "      <th>SP500</th>\n",
       "      <th>Russell2000</th>\n",
       "    </tr>\n",
       "    <tr>\n",
       "      <th>Date</th>\n",
       "      <th></th>\n",
       "      <th></th>\n",
       "    </tr>\n",
       "  </thead>\n",
       "  <tbody>\n",
       "    <tr>\n",
       "      <th>2019-08-02</th>\n",
       "      <td>-0.007309</td>\n",
       "      <td>-0.011088</td>\n",
       "    </tr>\n",
       "    <tr>\n",
       "      <th>2019-08-05</th>\n",
       "      <td>-0.030230</td>\n",
       "      <td>-0.030621</td>\n",
       "    </tr>\n",
       "    <tr>\n",
       "      <th>2019-08-06</th>\n",
       "      <td>0.012933</td>\n",
       "      <td>0.009821</td>\n",
       "    </tr>\n",
       "    <tr>\n",
       "      <th>2019-08-07</th>\n",
       "      <td>0.000767</td>\n",
       "      <td>-0.000932</td>\n",
       "    </tr>\n",
       "    <tr>\n",
       "      <th>2019-08-08</th>\n",
       "      <td>0.018588</td>\n",
       "      <td>0.020734</td>\n",
       "    </tr>\n",
       "  </tbody>\n",
       "</table>\n",
       "</div>"
      ],
      "text/plain": [
       "Ticker         SP500  Russell2000\n",
       "Date                             \n",
       "2019-08-02 -0.007309    -0.011088\n",
       "2019-08-05 -0.030230    -0.030621\n",
       "2019-08-06  0.012933     0.009821\n",
       "2019-08-07  0.000767    -0.000932\n",
       "2019-08-08  0.018588     0.020734"
      ]
     },
     "execution_count": 35,
     "metadata": {},
     "output_type": "execute_result"
    }
   ],
   "source": [
    "# Calculate log returns\n",
    "df = np.log(prices) - np.log(prices.shift(1))\n",
    "df = df.iloc[1:, 0:]\n",
    "df.head()\n"
   ]
  },
  {
   "cell_type": "code",
   "execution_count": 37,
   "id": "32773cd6-0542-4f1f-81a1-91d1f0fec6bc",
   "metadata": {},
   "outputs": [
    {
     "name": "stdout",
     "output_type": "stream",
     "text": [
      "Future Value of SP500: 1872.5041981875975\n",
      "Future Value of Russell2000: 1455.0892174400194\n"
     ]
    }
   ],
   "source": [
    "# Calculate average annual return over the past 5 years\n",
    "avg_returns = df.mean() * 252\n",
    "\n",
    "# Calculate future value for each index\n",
    "future_value_sp500 = 1000 * np.exp(avg_returns[\"SP500\"] * 5)\n",
    "future_value_russell2000 = 1000 * np.exp(avg_returns[\"Russell2000\"] * 5)\n",
    "\n",
    "print(\"Future Value of SP500:\", future_value_sp500)\n",
    "print(\"Future Value of Russell2000:\", future_value_russell2000)"
   ]
  },
  {
   "cell_type": "code",
   "execution_count": 39,
   "id": "442030f9-d8b7-4cf7-9c4b-37ded3b05c27",
   "metadata": {},
   "outputs": [
    {
     "name": "stdout",
     "output_type": "stream",
     "text": [
      "Future Value of SP500: 1872.5041981875975\n",
      "Future Value of Russell2000: 1455.0892174400194\n"
     ]
    }
   ],
   "source": [
    "# Calculate average daily return over the past 5 years\n",
    "avg_daily_returns = df.mean()\n",
    "\n",
    "# Calculate future value for each index (using daily returns and 5 years)\n",
    "num_days = 252 * 5  # Number of trading days in 5 years\n",
    "future_value_sp500 = 1000 * np.exp(avg_daily_returns[\"SP500\"] * num_days)\n",
    "future_value_russell2000 = 1000 * np.exp(avg_daily_returns[\"Russell2000\"] * num_days)\n",
    "\n",
    "print(\"Future Value of SP500:\", future_value_sp500)\n",
    "print(\"Future Value of Russell2000:\", future_value_russell2000)"
   ]
  },
  {
   "cell_type": "code",
   "execution_count": 41,
   "id": "7b6b6fa1-ad37-4a8e-bc64-c59a99aca070",
   "metadata": {},
   "outputs": [
    {
     "data": {
      "text/plain": [
       "Ticker\n",
       "SP500         5,667.200195\n",
       "Russell2000   2,442.739990\n",
       "dtype: float64"
      ]
     },
     "execution_count": 41,
     "metadata": {},
     "output_type": "execute_result"
    }
   ],
   "source": [
    "prices.max()"
   ]
  },
  {
   "cell_type": "code",
   "execution_count": 43,
   "id": "c917c30d-e0ce-494c-b7a3-72105af53aab",
   "metadata": {},
   "outputs": [
    {
     "data": {
      "text/plain": [
       "Ticker\n",
       "SP500         2,237.399902\n",
       "Russell2000     991.159973\n",
       "dtype: float64"
      ]
     },
     "execution_count": 43,
     "metadata": {},
     "output_type": "execute_result"
    }
   ],
   "source": [
    "prices.min()"
   ]
  },
  {
   "cell_type": "code",
   "execution_count": 45,
   "id": "722f7aa0-3218-47c9-848c-9736767c08e7",
   "metadata": {},
   "outputs": [
    {
     "data": {
      "text/plain": [
       "Ticker\n",
       "SP500         3,429.800293\n",
       "Russell2000   1,451.580017\n",
       "dtype: float64"
      ]
     },
     "execution_count": 45,
     "metadata": {},
     "output_type": "execute_result"
    }
   ],
   "source": [
    "prices.max() - prices.min()"
   ]
  },
  {
   "cell_type": "code",
   "execution_count": 47,
   "id": "8c91ff68-df30-4c12-ac09-9e13913a4a0f",
   "metadata": {},
   "outputs": [
    {
     "data": {
      "text/plain": [
       "Ticker\n",
       "SP500         1,549.830078\n",
       "Russell2000     626.729980\n",
       "dtype: float64"
      ]
     },
     "execution_count": 47,
     "metadata": {},
     "output_type": "execute_result"
    }
   ],
   "source": [
    "# Slice last year from prices data\n",
    "end = pd.Timestamp(end).tz_localize(None)  # Remove timezone info\n",
    "\n",
    "currYear = prices.loc[\n",
    "    pd.Timestamp(end - datetime.timedelta(365)) : end\n",
    "]\n",
    "\n",
    "# Calculate the difference between the maximum and minimum values in the currYear\n",
    "currYear.max() - currYear.min()"
   ]
  },
  {
   "cell_type": "code",
   "execution_count": 49,
   "id": "3ddfe306-226b-4ba3-9936-a589ae97e1be",
   "metadata": {},
   "outputs": [
    {
     "data": {
      "text/plain": [
       "Ticker\n",
       "SP500         0.280649\n",
       "Russell2000   0.277993\n",
       "dtype: float64"
      ]
     },
     "execution_count": 49,
     "metadata": {},
     "output_type": "execute_result"
    }
   ],
   "source": [
    "(currYear.max() - currYear.min()) / prices.iloc[-1]"
   ]
  },
  {
   "cell_type": "code",
   "execution_count": 51,
   "id": "d337a626-74bb-41fb-bb23-0c831dedb872",
   "metadata": {},
   "outputs": [
    {
     "data": {
      "image/png": "[encoded data removed]",
      "text/plain": [
       "<Figure size 1300x700 with 1 Axes>"
      ]
     },
     "metadata": {},
     "output_type": "display_data"
    }
   ],
   "source": [
    "# Calculate the 50-day rolling average of the \"SP500\" column\n",
    "prices[\"SP500 50 day_rolling_avg\"] = prices.SP500.rolling(50).mean()\n",
    "\n",
    "# set figure size and plot a simple time series plot using seaborn.lineplot()\n",
    "plt.figure(figsize=(13, 7))\n",
    "sns.lineplot(x=\"Date\", y=\"SP500\", data=prices, label=\"Daily S&P 500 Prices\")\n",
    "\n",
    "# plot rolling average\n",
    "sns.lineplot(x=\"Date\", y=\"SP500 50 day_rolling_avg\", data=prices, label=\"Rollingavg\", linewidth=2)\n",
    "plt.show()"
   ]
  },
  {
   "cell_type": "code",
   "execution_count": 53,
   "id": "c600960a-3e3f-43c7-801b-942bff57120b",
   "metadata": {},
   "outputs": [
    {
     "data": {
      "text/plain": [
       "Ticker\n",
       "SP500                      0.037068\n",
       "Russell2000                0.048725\n",
       "SP500 50 day_rolling_avg   0.028209\n",
       "dtype: float64"
      ]
     },
     "execution_count": 53,
     "metadata": {},
     "output_type": "execute_result"
    }
   ],
   "source": [
    "((abs(prices - prices.rolling(50).mean())) / prices).mean()"
   ]
  },
  {
   "cell_type": "code",
   "execution_count": 55,
   "id": "b6e36a22-45ed-4b36-b137-d9a3e28a5b54",
   "metadata": {},
   "outputs": [
    {
     "data": {
      "text/plain": [
       "Ticker\n",
       "SP500                      685.682781\n",
       "Russell2000                284.232353\n",
       "SP500 50 day_rolling_avg   635.644388\n",
       "dtype: float64"
      ]
     },
     "execution_count": 55,
     "metadata": {},
     "output_type": "execute_result"
    }
   ],
   "source": [
    "prices.std()"
   ]
  },
  {
   "cell_type": "code",
   "execution_count": 57,
   "id": "5e50cc2c-7321-4cf9-bf71-6a84c7fb0b03",
   "metadata": {},
   "outputs": [
    {
     "data": {
      "text/plain": [
       "Ticker\n",
       "SP500         0.013458\n",
       "Russell2000   0.017503\n",
       "dtype: float64"
      ]
     },
     "execution_count": 57,
     "metadata": {},
     "output_type": "execute_result"
    }
   ],
   "source": [
    "df.std()"
   ]
  },
  {
   "cell_type": "code",
   "execution_count": 59,
   "id": "59965761-d87d-47cd-89ee-1cbba14cbafa",
   "metadata": {},
   "outputs": [],
   "source": [
    "def investCompare(startTime, endTime, tickers):\n",
    "    # pull price data from yahoo -- (list(tickers.keys())) = ['^GSPC','^RUT']\n",
    "    startTime = pd.Timestamp(startTime).tz_localize('UTC')\n",
    "    endTime = pd.Timestamp(endTime).tz_localize('UTC')\n",
    "    prices = yfin.download(list(tickers.keys()), startTime, endTime, auto_adjust = False)[\"Adj Close\"]\n",
    "    prices = prices.rename(columns=tickers)\n",
    "    returns = np.log(prices) - np.log(prices.shift(1))\n",
    "    returns = returns.iloc[1:, 0:]\n",
    "\n",
    "    # pull data into separate DataFrame to just look at the last 365 days of\n",
    "    # data for calculating our high/low metric\n",
    "    currYear = prices.loc[(endTime - datetime.timedelta(365)).tz_convert(prices.index.tz) : endTime.tz_convert(prices.index.tz)]\n",
    "\n",
    "    # High-Low\n",
    "    highLow = (currYear.max() - currYear.min()) / prices.iloc[-1]\n",
    "    highLow = pd.DataFrame(highLow, columns=[\"HighMinusLow\"])\n",
    "\n",
    "    # Moving average volatility\n",
    "    MA = pd.DataFrame(\n",
    "        ((abs(prices - prices.rolling(50).mean())) / prices).mean(),\n",
    "        columns=[\"MovingAverageVolatility\"],\n",
    "    )\n",
    "    investments = pd.merge(highLow, MA, left_index=True, right_index=True)\n",
    "\n",
    "    # Standard deviation\n",
    "    investments = pd.merge(\n",
    "        investments,\n",
    "        pd.DataFrame(returns.std(), columns=[\"StandardDeviation\"]),\n",
    "        left_index=True,\n",
    "        right_index=True,\n",
    "    )\n",
    "\n",
    "    # Daily return\n",
    "    investments = pd.merge(\n",
    "        investments,\n",
    "        pd.DataFrame(returns.mean(), columns=[\"Daily Return Percentage\"]),\n",
    "        left_index=True,\n",
    "        right_index=True,\n",
    "    )\n",
    "\n",
    "    # Format columns:\n",
    "    # Hogh-Low column rounded to 5 decimal\n",
    "    investments[\"HighMinusLow\"] = investments[\"HighMinusLow\"].round(4).astype(str)\n",
    "\n",
    "    # MA, std and returns columns as percentage\n",
    "    columns = [\"MovingAverageVolatility\", \"StandardDeviation\", \"Daily Return Percentage\"]\n",
    "    for col in columns:\n",
    "      investments[col] = (investments[col] * 100).round(3).astype(str) + '%'\n",
    "\n",
    "    return investments"
   ]
  },
  {
   "cell_type": "code",
   "execution_count": 62,
   "id": "1a3e6ac8-32e8-4268-84a2-ed97cc725e3e",
   "metadata": {},
   "outputs": [
    {
     "name": "stderr",
     "output_type": "stream",
     "text": [
      "[*********************100%***********************]  2 of 2 completed\n"
     ]
    },
    {
     "data": {
      "text/html": [
       "<div>\n",
       "<style scoped>\n",
       "    .dataframe tbody tr th:only-of-type {\n",
       "        vertical-align: middle;\n",
       "    }\n",
       "\n",
       "    .dataframe tbody tr th {\n",
       "        vertical-align: top;\n",
       "    }\n",
       "\n",
       "    .dataframe thead th {\n",
       "        text-align: right;\n",
       "    }\n",
       "</style>\n",
       "<table border=\"1\" class=\"dataframe\">\n",
       "  <thead>\n",
       "    <tr style=\"text-align: right;\">\n",
       "      <th></th>\n",
       "      <th>HighMinusLow</th>\n",
       "      <th>MovingAverageVolatility</th>\n",
       "      <th>StandardDeviation</th>\n",
       "      <th>Daily Return Percentage</th>\n",
       "    </tr>\n",
       "    <tr>\n",
       "      <th>Ticker</th>\n",
       "      <th></th>\n",
       "      <th></th>\n",
       "      <th></th>\n",
       "      <th></th>\n",
       "    </tr>\n",
       "  </thead>\n",
       "  <tbody>\n",
       "    <tr>\n",
       "      <th>SP500</th>\n",
       "      <td>0.2806</td>\n",
       "      <td>3.707%</td>\n",
       "      <td>1.346%</td>\n",
       "      <td>0.05%</td>\n",
       "    </tr>\n",
       "    <tr>\n",
       "      <th>Russell2000</th>\n",
       "      <td>0.278</td>\n",
       "      <td>4.873%</td>\n",
       "      <td>1.75%</td>\n",
       "      <td>0.03%</td>\n",
       "    </tr>\n",
       "  </tbody>\n",
       "</table>\n",
       "</div>"
      ],
      "text/plain": [
       "            HighMinusLow MovingAverageVolatility StandardDeviation  \\\n",
       "Ticker                                                               \n",
       "SP500             0.2806                  3.707%            1.346%   \n",
       "Russell2000        0.278                  4.873%             1.75%   \n",
       "\n",
       "            Daily Return Percentage  \n",
       "Ticker                               \n",
       "SP500                         0.05%  \n",
       "Russell2000                   0.03%  "
      ]
     },
     "execution_count": 62,
     "metadata": {},
     "output_type": "execute_result"
    }
   ],
   "source": [
    "investCompare(\n",
    "    datetime.date(2019, 8, 1),\n",
    "    datetime.date(2024, 8, 1),\n",
    "    {\"^GSPC\": \"SP500\", \"^RUT\": \"Russell2000\"},\n",
    ")"
   ]
  },
  {
   "cell_type": "code",
   "execution_count": 64,
   "id": "c53ed8e2-546c-4b04-8673-791491a2969f",
   "metadata": {},
   "outputs": [
    {
     "name": "stderr",
     "output_type": "stream",
     "text": [
      "[*********************100%***********************]  3 of 3 completed\n"
     ]
    },
    {
     "data": {
      "text/html": [
       "<div>\n",
       "<style scoped>\n",
       "    .dataframe tbody tr th:only-of-type {\n",
       "        vertical-align: middle;\n",
       "    }\n",
       "\n",
       "    .dataframe tbody tr th {\n",
       "        vertical-align: top;\n",
       "    }\n",
       "\n",
       "    .dataframe thead th {\n",
       "        text-align: right;\n",
       "    }\n",
       "</style>\n",
       "<table border=\"1\" class=\"dataframe\">\n",
       "  <thead>\n",
       "    <tr style=\"text-align: right;\">\n",
       "      <th></th>\n",
       "      <th>HighMinusLow</th>\n",
       "      <th>MovingAverageVolatility</th>\n",
       "      <th>StandardDeviation</th>\n",
       "      <th>Daily Return Percentage</th>\n",
       "    </tr>\n",
       "    <tr>\n",
       "      <th>Ticker</th>\n",
       "      <th></th>\n",
       "      <th></th>\n",
       "      <th></th>\n",
       "      <th></th>\n",
       "    </tr>\n",
       "  </thead>\n",
       "  <tbody>\n",
       "    <tr>\n",
       "      <th>Apple</th>\n",
       "      <td>0.3154</td>\n",
       "      <td>6.462%</td>\n",
       "      <td>2.008%</td>\n",
       "      <td>0.118%</td>\n",
       "    </tr>\n",
       "    <tr>\n",
       "      <th>SP500</th>\n",
       "      <td>0.2806</td>\n",
       "      <td>3.707%</td>\n",
       "      <td>1.346%</td>\n",
       "      <td>0.05%</td>\n",
       "    </tr>\n",
       "    <tr>\n",
       "      <th>Russell2000</th>\n",
       "      <td>0.278</td>\n",
       "      <td>4.873%</td>\n",
       "      <td>1.75%</td>\n",
       "      <td>0.03%</td>\n",
       "    </tr>\n",
       "  </tbody>\n",
       "</table>\n",
       "</div>"
      ],
      "text/plain": [
       "            HighMinusLow MovingAverageVolatility StandardDeviation  \\\n",
       "Ticker                                                               \n",
       "Apple             0.3154                  6.462%            2.008%   \n",
       "SP500             0.2806                  3.707%            1.346%   \n",
       "Russell2000        0.278                  4.873%             1.75%   \n",
       "\n",
       "            Daily Return Percentage  \n",
       "Ticker                               \n",
       "Apple                        0.118%  \n",
       "SP500                         0.05%  \n",
       "Russell2000                   0.03%  "
      ]
     },
     "execution_count": 64,
     "metadata": {},
     "output_type": "execute_result"
    }
   ],
   "source": [
    "investCompare(\n",
    "    datetime.date(2019, 8, 1),\n",
    "    datetime.date(2024, 8, 1),\n",
    "    {\"^GSPC\": \"SP500\", \"^RUT\": \"Russell2000\", \"AAPL\": \"Apple\"},\n",
    ")"
   ]
  },
  {
   "cell_type": "code",
   "execution_count": 66,
   "id": "9e65b1ff-bd0b-461e-89a7-3be53d876583",
   "metadata": {},
   "outputs": [
    {
     "name": "stderr",
     "output_type": "stream",
     "text": [
      "[*********************100%***********************]  2 of 2 completed\n"
     ]
    },
    {
     "data": {
      "text/html": [
       "<div>\n",
       "<style scoped>\n",
       "    .dataframe tbody tr th:only-of-type {\n",
       "        vertical-align: middle;\n",
       "    }\n",
       "\n",
       "    .dataframe tbody tr th {\n",
       "        vertical-align: top;\n",
       "    }\n",
       "\n",
       "    .dataframe thead th {\n",
       "        text-align: right;\n",
       "    }\n",
       "</style>\n",
       "<table border=\"1\" class=\"dataframe\">\n",
       "  <thead>\n",
       "    <tr style=\"text-align: right;\">\n",
       "      <th></th>\n",
       "      <th>HighMinusLow</th>\n",
       "      <th>MovingAverageVolatility</th>\n",
       "      <th>StandardDeviation</th>\n",
       "      <th>Daily Return Percentage</th>\n",
       "    </tr>\n",
       "    <tr>\n",
       "      <th>Ticker</th>\n",
       "      <th></th>\n",
       "      <th></th>\n",
       "      <th></th>\n",
       "      <th></th>\n",
       "    </tr>\n",
       "  </thead>\n",
       "  <tbody>\n",
       "    <tr>\n",
       "      <th>Value</th>\n",
       "      <td>0.2306</td>\n",
       "      <td>2.546%</td>\n",
       "      <td>0.825%</td>\n",
       "      <td>0.05%</td>\n",
       "    </tr>\n",
       "    <tr>\n",
       "      <th>Growth</th>\n",
       "      <td>0.3582</td>\n",
       "      <td>4.083%</td>\n",
       "      <td>1.284%</td>\n",
       "      <td>0.078%</td>\n",
       "    </tr>\n",
       "  </tbody>\n",
       "</table>\n",
       "</div>"
      ],
      "text/plain": [
       "       HighMinusLow MovingAverageVolatility StandardDeviation  \\\n",
       "Ticker                                                          \n",
       "Value        0.2306                  2.546%            0.825%   \n",
       "Growth       0.3582                  4.083%            1.284%   \n",
       "\n",
       "       Daily Return Percentage  \n",
       "Ticker                          \n",
       "Value                    0.05%  \n",
       "Growth                  0.078%  "
      ]
     },
     "execution_count": 66,
     "metadata": {},
     "output_type": "execute_result"
    }
   ],
   "source": [
    "# Set start and end dates\n",
    "start = datetime.date(2022, 8, 1)\n",
    "end = datetime.date(2024, 8, 1)\n",
    "\n",
    "# Compute investments stats using investCompare() function\n",
    "investCompare(start, end, {\"VUG\": \"Growth\", \"VTV\": \"Value\"})"
   ]
  },
  {
   "cell_type": "code",
   "execution_count": 68,
   "id": "9fd95549-901b-412e-b409-31f2fb425ce0",
   "metadata": {},
   "outputs": [
    {
     "name": "stderr",
     "output_type": "stream",
     "text": [
      "[*********************100%***********************]  2 of 2 completed\n"
     ]
    },
    {
     "data": {
      "text/html": [
       "<div>\n",
       "<style scoped>\n",
       "    .dataframe tbody tr th:only-of-type {\n",
       "        vertical-align: middle;\n",
       "    }\n",
       "\n",
       "    .dataframe tbody tr th {\n",
       "        vertical-align: top;\n",
       "    }\n",
       "\n",
       "    .dataframe thead th {\n",
       "        text-align: right;\n",
       "    }\n",
       "</style>\n",
       "<table border=\"1\" class=\"dataframe\">\n",
       "  <thead>\n",
       "    <tr style=\"text-align: right;\">\n",
       "      <th></th>\n",
       "      <th>HighMinusLow</th>\n",
       "      <th>MovingAverageVolatility</th>\n",
       "      <th>StandardDeviation</th>\n",
       "      <th>Daily Return Percentage</th>\n",
       "    </tr>\n",
       "    <tr>\n",
       "      <th>Ticker</th>\n",
       "      <th></th>\n",
       "      <th></th>\n",
       "      <th></th>\n",
       "      <th></th>\n",
       "    </tr>\n",
       "  </thead>\n",
       "  <tbody>\n",
       "    <tr>\n",
       "      <th>Value</th>\n",
       "      <td>0.2306</td>\n",
       "      <td>2.753%</td>\n",
       "      <td>1.043%</td>\n",
       "      <td>0.045%</td>\n",
       "    </tr>\n",
       "    <tr>\n",
       "      <th>Growth</th>\n",
       "      <td>0.3582</td>\n",
       "      <td>3.435%</td>\n",
       "      <td>1.224%</td>\n",
       "      <td>0.059%</td>\n",
       "    </tr>\n",
       "  </tbody>\n",
       "</table>\n",
       "</div>"
      ],
      "text/plain": [
       "       HighMinusLow MovingAverageVolatility StandardDeviation  \\\n",
       "Ticker                                                          \n",
       "Value        0.2306                  2.753%            1.043%   \n",
       "Growth       0.3582                  3.435%            1.224%   \n",
       "\n",
       "       Daily Return Percentage  \n",
       "Ticker                          \n",
       "Value                   0.045%  \n",
       "Growth                  0.059%  "
      ]
     },
     "execution_count": 68,
     "metadata": {},
     "output_type": "execute_result"
    }
   ],
   "source": [
    "# Set start and end dates\n",
    "start = datetime.date(2010, 8, 1)\n",
    "end = datetime.date(2024, 8, 1)\n",
    "\n",
    "# Compute investments stats using investCompare() function\n",
    "investCompare(start, end, {\"VUG\": \"Growth\", \"VTV\": \"Value\"})"
   ]
  },
  {
   "cell_type": "code",
   "execution_count": 70,
   "id": "23d02561-b372-4042-91b8-8418b368a222",
   "metadata": {},
   "outputs": [
    {
     "name": "stderr",
     "output_type": "stream",
     "text": [
      "[*********************100%***********************]  3 of 3 completed\n"
     ]
    },
    {
     "data": {
      "text/html": [
       "<div>\n",
       "<style scoped>\n",
       "    .dataframe tbody tr th:only-of-type {\n",
       "        vertical-align: middle;\n",
       "    }\n",
       "\n",
       "    .dataframe tbody tr th {\n",
       "        vertical-align: top;\n",
       "    }\n",
       "\n",
       "    .dataframe thead th {\n",
       "        text-align: right;\n",
       "    }\n",
       "</style>\n",
       "<table border=\"1\" class=\"dataframe\">\n",
       "  <thead>\n",
       "    <tr style=\"text-align: right;\">\n",
       "      <th></th>\n",
       "      <th>HighMinusLow</th>\n",
       "      <th>MovingAverageVolatility</th>\n",
       "      <th>StandardDeviation</th>\n",
       "      <th>Daily Return Percentage</th>\n",
       "    </tr>\n",
       "    <tr>\n",
       "      <th>Ticker</th>\n",
       "      <th></th>\n",
       "      <th></th>\n",
       "      <th></th>\n",
       "      <th></th>\n",
       "    </tr>\n",
       "  </thead>\n",
       "  <tbody>\n",
       "    <tr>\n",
       "      <th>China ETF</th>\n",
       "      <td>0.2629</td>\n",
       "      <td>4.816%</td>\n",
       "      <td>1.633%</td>\n",
       "      <td>-0.025%</td>\n",
       "    </tr>\n",
       "    <tr>\n",
       "      <th>Europe ETF</th>\n",
       "      <td>0.2324</td>\n",
       "      <td>3.378%</td>\n",
       "      <td>1.051%</td>\n",
       "      <td>0.055%</td>\n",
       "    </tr>\n",
       "    <tr>\n",
       "      <th>SP500</th>\n",
       "      <td>0.2806</td>\n",
       "      <td>2.985%</td>\n",
       "      <td>0.98%</td>\n",
       "      <td>0.058%</td>\n",
       "    </tr>\n",
       "  </tbody>\n",
       "</table>\n",
       "</div>"
      ],
      "text/plain": [
       "           HighMinusLow MovingAverageVolatility StandardDeviation  \\\n",
       "Ticker                                                              \n",
       "China ETF        0.2629                  4.816%            1.633%   \n",
       "Europe ETF       0.2324                  3.378%            1.051%   \n",
       "SP500            0.2806                  2.985%             0.98%   \n",
       "\n",
       "           Daily Return Percentage  \n",
       "Ticker                              \n",
       "China ETF                  -0.025%  \n",
       "Europe ETF                  0.055%  \n",
       "SP500                       0.058%  "
      ]
     },
     "execution_count": 70,
     "metadata": {},
     "output_type": "execute_result"
    }
   ],
   "source": [
    "# Comparing Domestic vs. Foreign Stocks\n",
    "start = datetime.date(2022, 8, 1)\n",
    "end = datetime.date(2024, 8, 1)\n",
    "investCompare(start, end,{\"^GSPC\": \"SP500\", \"SPEU\": \"Europe ETF\", \"GXC\": \"China ETF\"})"
   ]
  },
  {
   "cell_type": "code",
   "execution_count": 72,
   "id": "ee6c0335-04b5-47e1-9de3-c515de383eab",
   "metadata": {},
   "outputs": [
    {
     "name": "stderr",
     "output_type": "stream",
     "text": [
      "[*********************100%***********************]  3 of 3 completed\n"
     ]
    },
    {
     "data": {
      "text/html": [
       "<div>\n",
       "<style scoped>\n",
       "    .dataframe tbody tr th:only-of-type {\n",
       "        vertical-align: middle;\n",
       "    }\n",
       "\n",
       "    .dataframe tbody tr th {\n",
       "        vertical-align: top;\n",
       "    }\n",
       "\n",
       "    .dataframe thead th {\n",
       "        text-align: right;\n",
       "    }\n",
       "</style>\n",
       "<table border=\"1\" class=\"dataframe\">\n",
       "  <thead>\n",
       "    <tr style=\"text-align: right;\">\n",
       "      <th></th>\n",
       "      <th>HighMinusLow</th>\n",
       "      <th>MovingAverageVolatility</th>\n",
       "      <th>StandardDeviation</th>\n",
       "      <th>Daily Return Percentage</th>\n",
       "    </tr>\n",
       "    <tr>\n",
       "      <th>Ticker</th>\n",
       "      <th></th>\n",
       "      <th></th>\n",
       "      <th></th>\n",
       "      <th></th>\n",
       "    </tr>\n",
       "  </thead>\n",
       "  <tbody>\n",
       "    <tr>\n",
       "      <th>China ETF</th>\n",
       "      <td>0.2629</td>\n",
       "      <td>4.521%</td>\n",
       "      <td>1.567%</td>\n",
       "      <td>0.006%</td>\n",
       "    </tr>\n",
       "    <tr>\n",
       "      <th>Europe ETF</th>\n",
       "      <td>0.2324</td>\n",
       "      <td>3.241%</td>\n",
       "      <td>1.233%</td>\n",
       "      <td>0.021%</td>\n",
       "    </tr>\n",
       "    <tr>\n",
       "      <th>SP500</th>\n",
       "      <td>0.2806</td>\n",
       "      <td>2.884%</td>\n",
       "      <td>1.085%</td>\n",
       "      <td>0.045%</td>\n",
       "    </tr>\n",
       "  </tbody>\n",
       "</table>\n",
       "</div>"
      ],
      "text/plain": [
       "           HighMinusLow MovingAverageVolatility StandardDeviation  \\\n",
       "Ticker                                                              \n",
       "China ETF        0.2629                  4.521%            1.567%   \n",
       "Europe ETF       0.2324                  3.241%            1.233%   \n",
       "SP500            0.2806                  2.884%            1.085%   \n",
       "\n",
       "           Daily Return Percentage  \n",
       "Ticker                              \n",
       "China ETF                   0.006%  \n",
       "Europe ETF                  0.021%  \n",
       "SP500                       0.045%  "
      ]
     },
     "execution_count": 72,
     "metadata": {},
     "output_type": "execute_result"
    }
   ],
   "source": [
    "# Comparing Domestic vs. Foreign Stocks\n",
    "start = datetime.date(2010, 8, 1)\n",
    "end = datetime.date(2024, 8, 1)\n",
    "investCompare(start, end,{\"^GSPC\": \"SP500\", \"SPEU\": \"Europe ETF\", \"GXC\": \"China ETF\"})"
   ]
  },
  {
   "cell_type": "code",
   "execution_count": null,
   "id": "c72300ef-17b0-4a45-89ba-edee10a905c3",
   "metadata": {},
   "outputs": [],
   "source": []
  }
 ],
 "metadata": {
  "kernelspec": {
   "display_name": "Python [conda env:base] *",
   "language": "python",
   "name": "conda-base-py"
  },
  "language_info": {
   "codemirror_mode": {
    "name": "ipython",
    "version": 3
   },
   "file_extension": ".py",
   "mimetype": "text/x-python",
   "name": "python",
   "nbconvert_exporter": "python",
   "pygments_lexer": "ipython3",
   "version": "3.12.4"
  }
 },
 "nbformat": 4,
 "nbformat_minor": 5
}
